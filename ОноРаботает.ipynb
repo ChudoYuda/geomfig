{
  "nbformat": 4,
  "nbformat_minor": 0,
  "metadata": {
    "colab": {
      "provenance": [],
      "authorship_tag": "ABX9TyO3I2UHQbZn0XbmTAW24rKU"
    },
    "kernelspec": {
      "name": "python3",
      "display_name": "Python 3"
    },
    "language_info": {
      "name": "python"
    }
  },
  "cells": [
    {
      "cell_type": "code",
      "execution_count": 1,
      "metadata": {
        "colab": {
          "base_uri": "https://localhost:8080/"
        },
        "id": "hl_F1LIQoJWZ",
        "outputId": "28991841-8c00-484a-91a9-d2233751b2cc"
      },
      "outputs": [
        {
          "output_type": "stream",
          "name": "stdout",
          "text": [
            "Collecting geomfig\n",
            "  Downloading geomfig-0.1.0-py3-none-any.whl.metadata (960 bytes)\n",
            "Downloading geomfig-0.1.0-py3-none-any.whl (3.7 kB)\n",
            "Installing collected packages: geomfig\n",
            "Successfully installed geomfig-0.1.0\n"
          ]
        }
      ],
      "source": [
        "!pip install geomfig"
      ]
    },
    {
      "cell_type": "code",
      "source": [
        "from geomfig import Circle\n",
        "\n",
        "print( Circle(1).area())"
      ],
      "metadata": {
        "colab": {
          "base_uri": "https://localhost:8080/"
        },
        "id": "rNNivfXpoTe0",
        "outputId": "86c13d52-c7e3-4f44-ddd2-45ec83470123"
      },
      "execution_count": 2,
      "outputs": [
        {
          "output_type": "stream",
          "name": "stdout",
          "text": [
            "3.141592653589793\n"
          ]
        }
      ]
    }
  ]
}